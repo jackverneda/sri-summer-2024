{
 "cells": [
  {
   "cell_type": "code",
   "execution_count": 1,
   "metadata": {},
   "outputs": [],
   "source": [
    "import pandas as pd\n",
    "import numpy as np\n",
    "import matplotlib.pyplot as plt\n",
    "import json"
   ]
  },
  {
   "cell_type": "markdown",
   "metadata": {},
   "source": [
    "# Conformación de secuencias\n",
    "\n",
    "Las secuencias de compras válidas y completas de cada usuario están disponibles en `sequences.csv`. Sin embargo, para entrenar el modelo de redes neuronales se necesitan entradas uniformes a la red, es decir, la cantidad de productos por entrada será siempre la misma. La realidad es que las secuencias recogidas varían de tamaño, por lo tanto hay que uniformarlas.\n",
    "\n",
    "Para ello se propone extraer subsecuencias de productos, de una secuencia grande. Se emplea la técnica de ventana móvil, donde se define un tamaño de ventana igual a la dimensión de la entrada. Luego se coloca la ventana al inicio de la secuencia, se extrae la subsecuencia que coincide con la posición y el tamaño de ventan, se desplaza la ventana y se repite este procedimiento. Este acaba cuando la ventana sobresale del tamaño de la secuencia original.\n",
    "\n",
    "Se debe tener en cuenta que este algoritmo genera subsecuencias de productos respetando el mismo orden cronológico en que fueron comprados, y cada productos de la subsecuencia respetan su adyacencia original. "
   ]
  },
  {
   "cell_type": "code",
   "execution_count": 2,
   "metadata": {},
   "outputs": [
    {
     "data": {
      "text/html": [
       "<div>\n",
       "<style scoped>\n",
       "    .dataframe tbody tr th:only-of-type {\n",
       "        vertical-align: middle;\n",
       "    }\n",
       "\n",
       "    .dataframe tbody tr th {\n",
       "        vertical-align: top;\n",
       "    }\n",
       "\n",
       "    .dataframe thead th {\n",
       "        text-align: right;\n",
       "    }\n",
       "</style>\n",
       "<table border=\"1\" class=\"dataframe\">\n",
       "  <thead>\n",
       "    <tr style=\"text-align: right;\">\n",
       "      <th></th>\n",
       "      <th>UserId</th>\n",
       "      <th>Sequences</th>\n",
       "      <th>Length</th>\n",
       "    </tr>\n",
       "  </thead>\n",
       "  <tbody>\n",
       "    <tr>\n",
       "      <th>0</th>\n",
       "      <td>A0010876CNE3ILIM9HV0</td>\n",
       "      <td>['B004MKEMPI', 'B005HKST1U', 'B001KYRVSO', 'B0...</td>\n",
       "      <td>4</td>\n",
       "    </tr>\n",
       "    <tr>\n",
       "      <th>1</th>\n",
       "      <td>A00262022JQPXX5SXEVJR</td>\n",
       "      <td>['B0071H61FS', 'B005FYJB92', 'B003NEZ0R8', 'B0...</td>\n",
       "      <td>4</td>\n",
       "    </tr>\n",
       "    <tr>\n",
       "      <th>2</th>\n",
       "      <td>A00338282E99B8OR2JYTZ</td>\n",
       "      <td>['B00AO6UKQO', 'B00B0RTA30', 'B00BM4GG9C']</td>\n",
       "      <td>3</td>\n",
       "    </tr>\n",
       "    <tr>\n",
       "      <th>3</th>\n",
       "      <td>A004205218STRNUW6PPPA</td>\n",
       "      <td>['B005UG1YS6', 'B0002Z0R9C']</td>\n",
       "      <td>2</td>\n",
       "    </tr>\n",
       "    <tr>\n",
       "      <th>4</th>\n",
       "      <td>A00442102RVQB9UWAU5KD</td>\n",
       "      <td>['B0056AJGU4', 'B00597GJAO']</td>\n",
       "      <td>2</td>\n",
       "    </tr>\n",
       "  </tbody>\n",
       "</table>\n",
       "</div>"
      ],
      "text/plain": [
       "                  UserId                                          Sequences  \\\n",
       "0   A0010876CNE3ILIM9HV0  ['B004MKEMPI', 'B005HKST1U', 'B001KYRVSO', 'B0...   \n",
       "1  A00262022JQPXX5SXEVJR  ['B0071H61FS', 'B005FYJB92', 'B003NEZ0R8', 'B0...   \n",
       "2  A00338282E99B8OR2JYTZ         ['B00AO6UKQO', 'B00B0RTA30', 'B00BM4GG9C']   \n",
       "3  A004205218STRNUW6PPPA                       ['B005UG1YS6', 'B0002Z0R9C']   \n",
       "4  A00442102RVQB9UWAU5KD                       ['B0056AJGU4', 'B00597GJAO']   \n",
       "\n",
       "   Length  \n",
       "0       4  \n",
       "1       4  \n",
       "2       3  \n",
       "3       2  \n",
       "4       2  "
      ]
     },
     "execution_count": 2,
     "metadata": {},
     "output_type": "execute_result"
    }
   ],
   "source": [
    "df_sequences = pd.read_csv('datasets/sequences.csv')\n",
    "df_sequences.head()"
   ]
  },
  {
   "cell_type": "code",
   "execution_count": 3,
   "metadata": {},
   "outputs": [],
   "source": [
    "head = df_sequences.head()"
   ]
  },
  {
   "cell_type": "code",
   "execution_count": 15,
   "metadata": {},
   "outputs": [],
   "source": [
    "def sequence_moving_window(sequence, window):\n",
    "    '''\n",
    "    Extrae subsecuencias de productos adyacentes de un secuencia dada.\n",
    "\n",
    "    Parámetros:\n",
    "    ----------\n",
    "        `sequence`: Secuencia original de la que se extraen todas las subsecuencias de productos.\n",
    "        Debe ser de tipo `list`, cada elemento puede diferentes tipos.  \n",
    "        `window`: El tamaño de cada subsecuencia.\n",
    "\n",
    "    Retorna:\n",
    "    -------\n",
    "        `sequences`: Una lista con todas las subsecuencias. Debe ser un tipo `list`, con secuencias de tipo `list`.\n",
    "    '''\n",
    "    if len(sequences) < window:\n",
    "        raise(ValueError('Tamaño de ventana menor a la secuencia'))\n",
    "    else:\n",
    "        all_sequences = []\n",
    "        for i in range(0, len(sequences)-window+1):\n",
    "            all_sequences.append(sequences[i:i+window])\n",
    "        return all_sequences"
   ]
  },
  {
   "cell_type": "code",
   "execution_count": 43,
   "metadata": {},
   "outputs": [],
   "source": [
    "'''\n",
    "Se crean 9 tablas con las posibles subsecuencias de tamaño de ventana 2 hasta 10.\n",
    "'''\n",
    "for n in range(2, 3):\n",
    "    df_all_sequences_n = pd.DataFrame()\n",
    "    for original_sequence in df_sequences[df_sequences['Length'] >=n]['Sequences']:\n",
    "        new_sequences = sequence_moving_window(json.loads(original_sequence.replace(\"'\", '\"')), n)\n",
    "        df_all_sequences_n = pd.concat([df_all_sequences_n, pd.DataFrame(\n",
    "                {\n",
    "                    'Sequence': new_sequences,\n",
    "                    'Length': [n]*len(new_sequences)\n",
    "                }\n",
    "            )])\n",
    "    df_all_sequences_n.to_csv(f'datasets/all_sequences/all_sequences_{n}.csv', index=False)"
   ]
  }
 ],
 "metadata": {
  "kernelspec": {
   "display_name": "machine-learning",
   "language": "python",
   "name": "python3"
  },
  "language_info": {
   "codemirror_mode": {
    "name": "ipython",
    "version": 3
   },
   "file_extension": ".py",
   "mimetype": "text/x-python",
   "name": "python",
   "nbconvert_exporter": "python",
   "pygments_lexer": "ipython3",
   "version": "3.11.0"
  }
 },
 "nbformat": 4,
 "nbformat_minor": 2
}
