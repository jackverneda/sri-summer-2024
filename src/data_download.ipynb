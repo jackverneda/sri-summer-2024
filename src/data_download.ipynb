{
  "cells": [
    {
      "cell_type": "code",
      "execution_count": null,
      "metadata": {
        "id": "X0um2hUUefCD"
      },
      "outputs": [],
      "source": [
        "!wget https://snap.stanford.edu/data/amazon/productGraph/categoryFiles/meta_Beauty.json.gz"
      ]
    },
    {
      "cell_type": "code",
      "execution_count": null,
      "metadata": {
        "id": "DfDXcce6NSUk"
      },
      "outputs": [],
      "source": [
        "!wget https://datarepo.eng.ucsd.edu/mcauley_group/data/amazon_v2/metaFiles2/meta_All_Beauty.json.gz"
      ]
    },
    {
      "cell_type": "code",
      "execution_count": null,
      "metadata": {
        "id": "zjeO3cMyeaiB"
      },
      "outputs": [],
      "source": [
        "!wget https://datarepo.eng.ucsd.edu/mcauley_group/data/amazon_2023/raw/meta_categories/meta_All_Beauty.jsonl.gz"
      ]
    },
    {
      "cell_type": "code",
      "execution_count": null,
      "metadata": {
        "colab": {
          "base_uri": "https://localhost:8080/"
        },
        "id": "f5TvgFTIeW25",
        "outputId": "0474b463-705a-47e4-ce3b-e37f3c61dc8a"
      },
      "outputs": [
        {
          "name": "stdout",
          "output_type": "stream",
          "text": [
            "--2024-08-30 22:48:10--  https://datarepo.eng.ucsd.edu/mcauley_group/data/amazon_2023/raw/meta_categories/meta_Beauty_and_Personal_Care.jsonl.gz\n",
            "Resolving datarepo.eng.ucsd.edu (datarepo.eng.ucsd.edu)... 132.239.8.30\n",
            "Connecting to datarepo.eng.ucsd.edu (datarepo.eng.ucsd.edu)|132.239.8.30|:443... connected.\n",
            "HTTP request sent, awaiting response... 200 OK\n",
            "Length: 717878391 (685M) [application/x-gzip]\n",
            "Saving to: ‘meta_Beauty_and_Personal_Care.jsonl.gz’\n",
            "\n",
            "meta_Beauty_and_Per 100%[===================>] 684.62M  65.7MB/s    in 8.4s    \n",
            "\n",
            "2024-08-30 22:48:19 (81.3 MB/s) - ‘meta_Beauty_and_Personal_Care.jsonl.gz’ saved [717878391/717878391]\n",
            "\n"
          ]
        }
      ],
      "source": [
        "!wget https://datarepo.eng.ucsd.edu/mcauley_group/data/amazon_2023/raw/meta_categories/meta_Beauty_and_Personal_Care.jsonl.gz"
      ]
    },
    {
      "cell_type": "code",
      "execution_count": null,
      "metadata": {
        "colab": {
          "base_uri": "https://localhost:8080/"
        },
        "id": "zqY8Fp-BmZw5",
        "outputId": "a3cc5828-61fd-469d-ba1e-5bd1186077ce"
      },
      "outputs": [
        {
          "name": "stdout",
          "output_type": "stream",
          "text": [
            "--2024-08-30 23:24:01--  https://datarepo.eng.ucsd.edu/mcauley_group/data/amazon_2023/raw/meta_categories/meta_Health_and_Personal_Care.jsonl.gz\n",
            "Resolving datarepo.eng.ucsd.edu (datarepo.eng.ucsd.edu)... 132.239.8.30\n",
            "Connecting to datarepo.eng.ucsd.edu (datarepo.eng.ucsd.edu)|132.239.8.30|:443... connected.\n",
            "HTTP request sent, awaiting response... 200 OK\n",
            "Length: 23636692 (23M) [application/x-gzip]\n",
            "Saving to: ‘meta_Health_and_Personal_Care.jsonl.gz’\n",
            "\n",
            "meta_Health_and_Per 100%[===================>]  22.54M  37.6MB/s    in 0.6s    \n",
            "\n",
            "2024-08-30 23:24:02 (37.6 MB/s) - ‘meta_Health_and_Personal_Care.jsonl.gz’ saved [23636692/23636692]\n",
            "\n"
          ]
        }
      ],
      "source": [
        "!wget https://datarepo.eng.ucsd.edu/mcauley_group/data/amazon_2023/raw/meta_categories/meta_Health_and_Personal_Care.jsonl.gz"
      ]
    },
    {
      "cell_type": "code",
      "execution_count": null,
      "metadata": {
        "colab": {
          "base_uri": "https://localhost:8080/"
        },
        "id": "iA3VMxV1nVsb",
        "outputId": "ecf1b184-1b65-4f41-835f-7a78096e53b9"
      },
      "outputs": [
        {
          "name": "stdout",
          "output_type": "stream",
          "text": [
            "--2024-08-30 23:28:49--  https://datarepo.eng.ucsd.edu/mcauley_group/data/amazon_2023/raw/meta_categories/meta_Baby_Products.jsonl.gz\n",
            "Resolving datarepo.eng.ucsd.edu (datarepo.eng.ucsd.edu)... 132.239.8.30\n",
            "Connecting to datarepo.eng.ucsd.edu (datarepo.eng.ucsd.edu)|132.239.8.30|:443... connected.\n",
            "HTTP request sent, awaiting response... 200 OK\n",
            "Length: 176660470 (168M) [application/x-gzip]\n",
            "Saving to: ‘meta_Baby_Products.jsonl.gz’\n",
            "\n",
            "meta_Baby_Products. 100%[===================>] 168.48M  54.5MB/s    in 3.1s    \n",
            "\n",
            "2024-08-30 23:28:52 (54.5 MB/s) - ‘meta_Baby_Products.jsonl.gz’ saved [176660470/176660470]\n",
            "\n"
          ]
        }
      ],
      "source": [
        "!wget https://datarepo.eng.ucsd.edu/mcauley_group/data/amazon_2023/raw/meta_categories/meta_Baby_Products.jsonl.gz"
      ]
    },
    {
      "cell_type": "code",
      "execution_count": null,
      "metadata": {
        "colab": {
          "base_uri": "https://localhost:8080/"
        },
        "id": "kMSXbmRKoYVn",
        "outputId": "7db57e6f-3066-47da-9449-d5722c060484"
      },
      "outputs": [
        {
          "name": "stdout",
          "output_type": "stream",
          "text": [
            "--2024-08-30 23:32:00--  https://datarepo.eng.ucsd.edu/mcauley_group/data/amazon_v2/metaFiles2/meta_Appliances.json.gz\n",
            "Resolving datarepo.eng.ucsd.edu (datarepo.eng.ucsd.edu)... 132.239.8.30\n",
            "Connecting to datarepo.eng.ucsd.edu (datarepo.eng.ucsd.edu)|132.239.8.30|:443... connected.\n",
            "HTTP request sent, awaiting response... 200 OK\n",
            "Length: 59884788 (57M) [application/x-gzip]\n",
            "Saving to: ‘meta_Appliances.json.gz’\n",
            "\n",
            "meta_Appliances.jso 100%[===================>]  57.11M  51.1MB/s    in 1.1s    \n",
            "\n",
            "2024-08-30 23:32:01 (51.1 MB/s) - ‘meta_Appliances.json.gz’ saved [59884788/59884788]\n",
            "\n"
          ]
        }
      ],
      "source": [
        "!wget https://datarepo.eng.ucsd.edu/mcauley_group/data/amazon_v2/metaFiles2/meta_Appliances.json.gz"
      ]
    },
    {
      "cell_type": "code",
      "execution_count": null,
      "metadata": {
        "colab": {
          "base_uri": "https://localhost:8080/"
        },
        "id": "oaXnSzhtsm6v",
        "outputId": "8acbd5d9-6460-4598-c5ae-2b4bb883c01d"
      },
      "outputs": [
        {
          "name": "stdout",
          "output_type": "stream",
          "text": [
            "--2024-08-30 23:50:56--  https://datarepo.eng.ucsd.edu/mcauley_group/data/amazon_2023/raw/meta_categories/meta_Appliances.jsonl.gz\n",
            "Resolving datarepo.eng.ucsd.edu (datarepo.eng.ucsd.edu)... 132.239.8.30\n",
            "Connecting to datarepo.eng.ucsd.edu (datarepo.eng.ucsd.edu)|132.239.8.30|:443... connected.\n",
            "HTTP request sent, awaiting response... 200 OK\n",
            "Length: 67242010 (64M) [application/x-gzip]\n",
            "Saving to: ‘meta_Appliances.jsonl.gz’\n",
            "\n",
            "meta_Appliances.jso 100%[===================>]  64.13M  1.85MB/s    in 27s     \n",
            "\n",
            "2024-08-30 23:51:23 (2.42 MB/s) - ‘meta_Appliances.jsonl.gz’ saved [67242010/67242010]\n",
            "\n"
          ]
        }
      ],
      "source": [
        "!wget https://datarepo.eng.ucsd.edu/mcauley_group/data/amazon_2023/raw/meta_categories/meta_Appliances.jsonl.gz"
      ]
    },
    {
      "cell_type": "code",
      "execution_count": null,
      "metadata": {
        "id": "H9ueU9eoNQRF"
      },
      "outputs": [],
      "source": [
        "!gzip -d meta_Appliances.json.gz"
      ]
    },
    {
      "cell_type": "code",
      "execution_count": null,
      "metadata": {
        "id": "Gj9KW3K3PxkV"
      },
      "outputs": [],
      "source": [
        "import pandas as pd\n",
        "import json"
      ]
    },
    {
      "cell_type": "code",
      "execution_count": null,
      "metadata": {
        "id": "rt_ZrqABQS66"
      },
      "outputs": [],
      "source": [
        "import pandas as pd\n",
        "import gzip\n",
        "\n",
        "def parse(path, anno):\n",
        "  g = gzip.open(path, 'rb')\n",
        "  for l in g:\n",
        "    j = json.loads(l)\n",
        "    if anno == 2018:\n",
        "      d = {\n",
        "          'title': j['title'],\n",
        "          'asin': j['asin'],\n",
        "          'description': j['description'],\n",
        "          'price': j['price'],\n",
        "          'images': [\n",
        "                {\n",
        "                  \"hi_res\": j['imageURL'],\n",
        "                  \"thumb\": j['imageURL'],\n",
        "                  \"large\": j['imageURLHighRes'],\n",
        "                  \"variant\": \"MAIN\"\n",
        "                }\n",
        "          ],\n",
        "          'features': j['feature']\n",
        "      }\n",
        "    else:\n",
        "      d = {\n",
        "          'title': j['title'],\n",
        "          'asin': j['parent_asin'],\n",
        "          'description': j['description'][1] if len(j['description']) > 1 else '',\n",
        "          'price': j['price'],\n",
        "          'rating': j['average_rating'],\n",
        "          'images': j['images'],\n",
        "          'features': j['features']\n",
        "      }\n",
        "    yield d\n",
        "\n",
        "def getDF(path, anno):\n",
        "  i = 0\n",
        "  df = {}\n",
        "  for d in parse(path, anno):\n",
        "    df[i] = d\n",
        "    i += 1\n",
        "  return pd.DataFrame.from_dict(df, orient='index')"
      ]
    },
    {
      "cell_type": "code",
      "execution_count": null,
      "metadata": {
        "id": "_2jhEeOBfGRU"
      },
      "outputs": [],
      "source": [
        "anno = [\n",
        "    2018,\n",
        "    2018,\n",
        "    2023,\n",
        "    2023,\n",
        "    2023,\n",
        "    2023,\n",
        "    2018,\n",
        "    2023\n",
        "]\n",
        "datasets_name = [\n",
        "    'meta_Beauty_2014.json.gz',\n",
        "    'meta_All_Beauty_2018.json.gz',\n",
        "    'meta_All_Beauty_2023.jsonl.gz',\n",
        "    'meta_Beauty_and_Personal_Care_2023.jsonl.gz',\n",
        "    'meta_Health_and_Personal_Care_2023.jsonl.gz',\n",
        "    'meta_Baby_Products_2023.jsonl.gz',\n",
        "    'meta_Appliances_2018.json.gz',\n",
        "    'meta_Appliances_2023.jsonl.gz'\n",
        "]\n",
        "asin_name = [\n",
        "    '',\n",
        "    'asin',\n",
        "    'parent_asin',\n",
        "    'parent_asin',\n",
        "    'parent_asin',\n",
        "    'parent_asin',\n",
        "    'asin',\n",
        "    'parent_asin'\n",
        "]\n",
        "title_name = [\n",
        "    '',\n",
        "    'title',\n",
        "    'title',\n",
        "    'title',\n",
        "    'title',\n",
        "    'title',\n",
        "    'title',\n",
        "    'title'\n",
        "]"
      ]
    },
    {
      "cell_type": "code",
      "execution_count": null,
      "metadata": {
        "id": "Cfwm4hU6iWdy"
      },
      "outputs": [],
      "source": [
        "df_all = pd.DataFrame()\n",
        "for i in range(1,8):\n",
        "  df = getDF(datasets_name[i], anno[i])\n",
        "  df_all = pd.concat([df_all, df])"
      ]
    },
    {
      "cell_type": "code",
      "execution_count": null,
      "metadata": {
        "colab": {
          "base_uri": "https://localhost:8080/"
        },
        "id": "an8nyKzB6BmN",
        "outputId": "26a2eb93-c905-434a-b765-ee9b957370f6"
      },
      "outputs": [
        {
          "data": {
            "text/plain": [
              "(32892, 6)"
            ]
          },
          "execution_count": 89,
          "metadata": {},
          "output_type": "execute_result"
        }
      ],
      "source": [
        "df_all.shape"
      ]
    },
    {
      "cell_type": "code",
      "execution_count": null,
      "metadata": {
        "colab": {
          "base_uri": "https://localhost:8080/"
        },
        "id": "HsQx1nrBUYDT",
        "outputId": "bc039ae1-6aea-4a27-c7a7-87f39706c68f"
      },
      "outputs": [
        {
          "name": "stdout",
          "output_type": "stream",
          "text": [
            "Dataset URL: https://www.kaggle.com/datasets/satrapankti/amazon-beauty-product-recommendation\n",
            "License(s): CC0-1.0\n",
            "Downloading amazon-beauty-product-recommendation.zip to /content\n",
            " 19% 5.00M/26.3M [00:00<00:00, 30.1MB/s]\n",
            "100% 26.3M/26.3M [00:00<00:00, 107MB/s] \n"
          ]
        }
      ],
      "source": [
        "!kaggle datasets download -d satrapankti/amazon-beauty-product-recommendation"
      ]
    },
    {
      "cell_type": "code",
      "execution_count": null,
      "metadata": {
        "colab": {
          "base_uri": "https://localhost:8080/"
        },
        "id": "L0tvAy8JUccL",
        "outputId": "158b9373-0bb2-440f-cad2-ea8e646c8417"
      },
      "outputs": [
        {
          "name": "stdout",
          "output_type": "stream",
          "text": [
            "Archive:  amazon-beauty-product-recommendation.zip\n",
            "  inflating: Amazon_Beauty_Recommendation.csv  \n"
          ]
        }
      ],
      "source": [
        "!unzip amazon-beauty-product-recommendation.zip"
      ]
    },
    {
      "cell_type": "code",
      "execution_count": null,
      "metadata": {
        "id": "UKTsbX_MWREJ"
      },
      "outputs": [],
      "source": [
        "df_beauty_sales = pd.read_csv('Amazon_Beauty_Recommendation.csv')"
      ]
    },
    {
      "cell_type": "code",
      "execution_count": null,
      "metadata": {
        "id": "r4GOgZSqWzsw"
      },
      "outputs": [],
      "source": [
        "A = set(df_all['asin'])\n",
        "B = set(df_beauty_sales['ProductId'])\n",
        "C = A.intersection(B)\n",
        "len(A), len(B), len(C)"
      ]
    },
    {
      "cell_type": "code",
      "execution_count": null,
      "metadata": {
        "id": "GYRlXRNmukEr"
      },
      "outputs": [],
      "source": [
        "df_all = df_all.drop_duplicates('asin')"
      ]
    },
    {
      "cell_type": "code",
      "execution_count": null,
      "metadata": {
        "colab": {
          "base_uri": "https://localhost:8080/"
        },
        "id": "JOfbtoAnvtZi",
        "outputId": "cb280b5a-e39f-42d2-8293-826be7a8b358"
      },
      "outputs": [
        {
          "data": {
            "text/plain": [
              "(1546219, 7)"
            ]
          },
          "execution_count": 97,
          "metadata": {},
          "output_type": "execute_result"
        }
      ],
      "source": [
        "df_all.shape"
      ]
    },
    {
      "cell_type": "code",
      "execution_count": null,
      "metadata": {
        "id": "0ywddSA274QQ"
      },
      "outputs": [],
      "source": [
        "df_all.to_csv('data/products.csv', index=False)"
      ]
    },
    {
      "cell_type": "code",
      "execution_count": null,
      "metadata": {
        "id": "K4HIvFSk_XxS"
      },
      "outputs": [],
      "source": [
        "df_all = df_all.set_index('asin')"
      ]
    },
    {
      "cell_type": "code",
      "execution_count": null,
      "metadata": {
        "id": "Z7LoBv9k_-qV"
      },
      "outputs": [],
      "source": [
        "df_products = df_all.loc[list(C)]"
      ]
    },
    {
      "cell_type": "code",
      "execution_count": null,
      "metadata": {
        "id": "dS-u1PGeAYUk"
      },
      "outputs": [],
      "source": [
        "df_products.to_csv('products.csv')"
      ]
    }
  ],
  "metadata": {
    "colab": {
      "provenance": []
    },
    "kernelspec": {
      "display_name": "Python 3",
      "name": "python3"
    },
    "language_info": {
      "name": "python"
    }
  },
  "nbformat": 4,
  "nbformat_minor": 0
}
